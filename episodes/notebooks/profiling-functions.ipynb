{
 "cells": [
  {
   "cell_type": "code",
   "execution_count": null,
   "id": "7a05824c",
   "metadata": {},
   "outputs": [],
   "source": [
    "import traceback\n",
    "\n",
    "def a():\n",
    "    b1()\n",
    "    b2()\n",
    "def b1():\n",
    "    pass\n",
    "def b2():\n",
    "    c()\n",
    "def c():\n",
    "    traceback.print_stack()\n",
    "\n",
    "a()"
   ]
  },
  {
   "cell_type": "code",
   "execution_count": null,
   "id": "41fb909e",
   "metadata": {},
   "outputs": [],
   "source": [
    "import time\n",
    "\n",
    "def a_1():\n",
    "    for i in range(3):\n",
    "        b_1()\n",
    "    time.sleep(1)\n",
    "    b_2()\n",
    "    \n",
    "def b_1():\n",
    "    c_1()\n",
    "    c_2()\n",
    "\n",
    "def b_2():\n",
    "    time.sleep(1)\n",
    "    \n",
    "def c_1():\n",
    "    time.sleep(0.5)\n",
    "\n",
    "def c_2():\n",
    "    time.sleep(0.3)\n",
    "    d_1()\n",
    "\n",
    "def d_1():\n",
    "    time.sleep(0.1)\n",
    "\n",
    "# Entry Point\n",
    "a_1()"
   ]
  }
 ],
 "metadata": {},
 "nbformat": 4,
 "nbformat_minor": 5
}
