{
 "cells": [
  {
   "cell_type": "markdown",
   "id": "a45fbb65-3542-47af-a57e-076033e1f147",
   "metadata": {},
   "source": [
    "# Function profiling\n",
    "* When is function level profiling appropriate?\n",
    "* How can `cProfile` and `snakeviz` tools be used to profile a Python program?\n",
    "* How are the outputs from function level profiling interpreted?"
   ]
  },
  {
   "cell_type": "markdown",
   "id": "26c6f773-6a70-4a19-8ed4-35abd37abc77",
   "metadata": {},
   "source": [
    "### Software is usually made up of a hierarchy of function calls:\n",
    "* Some written by the developer\n",
    "\n",
    "* Others from the standard library or third-party packages\n",
    "\n",
    "#### `Function-level profiling` shows where time is being spent in functions.\n",
    "* It counts how many times each function is called\n",
    "  \n",
    "* It measures total time spent in each function, including and excluding child function calls\n",
    "This helps quickly find functions that take up a large share of the runtime.\n",
    "\n",
    "#### In this episode, we will:\n",
    "\n",
    "* Use the function-level profiler `cProfile`\n",
    "\n",
    "* Visualise the output with `snakeviz`\n",
    "\n",
    "* Learn how to interpret the results"
   ]
  },
  {
   "cell_type": "code",
   "execution_count": 7,
   "id": "0085d249-088e-47b9-8021-eb0e19a8b285",
   "metadata": {},
   "outputs": [],
   "source": [
    "# ![title](stack.png)"
   ]
  },
  {
   "cell_type": "markdown",
   "id": "cb57ed26-da76-4077-a7db-122885bef904",
   "metadata": {},
   "source": [
    "# What is a Call Stack?\n",
    "* A Last-in-first-out queue\n",
    "* It keeps track of function calls and their associated variables\n",
    "* Info is kept as long as the functions are active, i.e., still running\n",
    "\n",
    "Example of a function call stack using traceback package"
   ]
  },
  {
   "cell_type": "code",
   "execution_count": null,
   "id": "7a05824c",
   "metadata": {
    "scrolled": true
   },
   "outputs": [],
   "source": [
    "import traceback\n",
    "\n",
    "def a():\n",
    "    b1()\n",
    "    b2()\n",
    "    \n",
    "def b1():\n",
    "    pass\n",
    "    \n",
    "def b2():\n",
    "    c()\n",
    "    \n",
    "def c():\n",
    "    traceback.print_stack()\n",
    "\n",
    "a()\n",
    "\n",
    "#  File \"/var/folders/s0/2zsybdkd50s2xdxzyg37j4611m1b1l/T/ipykernel_16681/3225044458.py\", line 16, in <module>\n",
    "#    a()\n",
    "#  File \"/var/folders/s0/2zsybdkd50s2xdxzyg37j4611m1b1l/T/ipykernel_16681/3225044458.py\", line 5, in a\n",
    "#    b2()\n",
    "#  File \"/var/folders/s0/2zsybdkd50s2xdxzyg37j4611m1b1l/T/ipykernel_16681/3225044458.py\", line 11, in b2\n",
    "#    c()\n",
    "#  File \"/var/folders/s0/2zsybdkd50s2xdxzyg37j4611m1b1l/T/ipykernel_16681/3225044458.py\", line 14, in c\n",
    "#    traceback.print_stack()"
   ]
  },
  {
   "cell_type": "markdown",
   "id": "de2c4b5c-7eb5-41ee-8391-484428444e82",
   "metadata": {},
   "source": [
    "The stack trace shows the filename and line number of each function call.\n",
    "\n",
    "You may see stack traces like this when an unhandled exception is thrown by your code.\n",
    "Stack traces are very helpful to identify the source line of the error"
   ]
  },
  {
   "cell_type": "markdown",
   "id": "90218270-5ded-42c2-b5aa-c3c01fb6b199",
   "metadata": {},
   "source": [
    "# `cProfile`"
   ]
  },
  {
   "cell_type": "markdown",
   "id": "4e71fc96-2f99-4d74-b0b1-1bd222635468",
   "metadata": {},
   "source": [
    "`cProfile` is part of python standard library, i.e., no need to install it.\n",
    "* you can import it from within your python code\n",
    "* or run it in command line as follows:\n",
    "  ``` bash\n",
    "  python -m cProfile -o <output file.prof> <script name> <arguments>\n",
    "  ```\n",
    "\n",
    "Profiling outputs will be writtin to a file with `.prof` extension if you specify `-o  my_out.prof` argument\n",
    "Otherwise, it will be written directly to your console output"
   ]
  },
  {
   "cell_type": "code",
   "execution_count": 5,
   "id": "41fb909e",
   "metadata": {},
   "outputs": [],
   "source": [
    "# save it to func_prof.py\n",
    "import time\n",
    "\n",
    "def a_1():\n",
    "    for i in range(3):\n",
    "        b_1()\n",
    "    time.sleep(1)\n",
    "    b_2()\n",
    "    \n",
    "def b_1():\n",
    "    c_1()\n",
    "    c_2()\n",
    "\n",
    "def b_2():\n",
    "    time.sleep(1)\n",
    "    \n",
    "def c_1():\n",
    "    time.sleep(0.5)\n",
    "\n",
    "def c_2():\n",
    "    time.sleep(0.3)\n",
    "    d_1()\n",
    "\n",
    "def d_1():\n",
    "    time.sleep(0.1)\n",
    "\n",
    "# Entry Point\n",
    "a_1()\n",
    "\n",
    "# a_1() calls 3 times b_1(), then sleeps for (1s), then calls b_2 (sleeping for 1s) => 2s\n",
    "# b_1() calls c_1() --> c_1() is called 3 times (sleeping in total 1.5s) => 1.5s\n",
    "# b_1() calls c_2() --> c_2() is called 3 times (sleeping in total 0.9s) then sleeping 0.1*3=0.3 => total=1.2s\n",
    "# .sleep() is called: 11 times (1 in a_1(), 3 times in c_1(), 3 times in c_2() and 3 times in d_1() and Once in b_2())\n",
    "# Total time spend: 4.7s"
   ]
  },
  {
   "cell_type": "markdown",
   "id": "32d841e6-9cf2-47d7-a87e-7f511aaa5d5f",
   "metadata": {},
   "source": [
    "# Run `cProfile` module in command line. \n",
    "We won't specify the output file for the moment\n",
    "```bash\n",
    "python -m cProfile func_prof.py\n",
    "```\n",
    "\n",
    "\n",
    "```output\n",
    "         28 function calls in 4.736 seconds\n",
    "\n",
    "   Ordered by: cumulative time\n",
    "\n",
    "   ncalls  tottime  percall  cumtime  percall filename:lineno(function)\n",
    "        1    0.000    0.000    4.736    4.736 {built-in method builtins.exec}\n",
    "        1    0.000    0.000    4.736    4.736 func_prof2.py:1(<module>)\n",
    "        1    0.000    0.000    4.736    4.736 func_prof2.py:3(a_1)\n",
    "       11    4.736    0.431    4.736    0.431 {built-in method time.sleep}\n",
    "        3    0.000    0.000    2.732    0.911 func_prof2.py:9(b_1)\n",
    "        3    0.000    0.000    1.509    0.503 func_prof2.py:16(c_1)\n",
    "        3    0.000    0.000    1.223    0.408 func_prof2.py:19(c_2)\n",
    "        1    0.000    0.000    1.004    1.004 func_prof2.py:13(b_2)\n",
    "        3    0.000    0.000    0.311    0.104 func_prof2.py:23(d_1)\n",
    "        1    0.000    0.000    0.000    0.000 {method 'disable' of '_lsprof.Profiler' objects}\n",
    "```"
   ]
  },
  {
   "cell_type": "markdown",
   "id": "71451df7-54b8-4326-89a0-c0ed0e3d79b5",
   "metadata": {},
   "source": [
    "* `ncalls`: number of times (in seconds) a function was called\n",
    "* `tottime`: total time spent in that function, excluding child function\n",
    "* `percall`: average time spent in that function each time, i.e., `tottime/ncalls`\n",
    "* `cumtime`: total time spent in that function, including child function calls\n",
    "* `percall`: The average `cumtime` per function call (`cumtime/ncalls`).\n",
    "* `filename:lineno(function)`: function name and location "
   ]
  },
  {
   "cell_type": "markdown",
   "id": "36f0419e-5a11-4b87-b04d-543c69d1553a",
   "metadata": {},
   "source": [
    "# Let's visualise the profiling results using `snakeviz`\n",
    "We should run cProfile and specify an output file:\n",
    "```bash\n",
    "python -m cProfile -o out.prof func_prof.py\n",
    "```"
   ]
  },
  {
   "cell_type": "markdown",
   "id": "5078679c-b872-413a-9993-bbfb19859025",
   "metadata": {},
   "source": [
    "# Install snakeviz if not already done in the setup\n",
    "\n",
    "```bash\n",
    "pip install snakeviz\n",
    "```\n",
    "\n",
    "* verify it is installed by running `snakeviz --version`"
   ]
  },
  {
   "cell_type": "markdown",
   "id": "c91ab8bc-44d6-4c25-9ac8-85b627b1770f",
   "metadata": {},
   "source": [
    "# Run snakeviz in your command line:\n",
    "```bash\n",
    "python -m snakeviz out.prof\n",
    "```\n",
    "In consequence this will open out.prof in your browser"
   ]
  },
  {
   "cell_type": "markdown",
   "id": "1a080086-3779-4e2b-89ce-0b004eb57036",
   "metadata": {},
   "source": [
    "# Run snakeviz in jupyter notebook:"
   ]
  },
  {
   "cell_type": "code",
   "execution_count": 3,
   "id": "a8913674-3ad0-4e74-bf70-1af19474d2e3",
   "metadata": {},
   "outputs": [
    {
     "name": "stdout",
     "output_type": "stream",
     "text": [
      "Requirement already satisfied: snakeviz in /opt/anaconda3/envs/py311_env/lib/python3.11/site-packages (2.2.2)\n",
      "Requirement already satisfied: tornado>=2.0 in /opt/anaconda3/envs/py311_env/lib/python3.11/site-packages (from snakeviz) (6.5.2)\n"
     ]
    }
   ],
   "source": [
    "!pip install snakeviz\n",
    "%load_ext snakeviz"
   ]
  },
  {
   "cell_type": "code",
   "execution_count": 2,
   "id": "d05f4ff6-a553-422c-85d7-18f7683eb27c",
   "metadata": {},
   "outputs": [],
   "source": [
    "# run snakeviz in jupyter notebook\n",
    "# %snakeviz a_1()"
   ]
  },
  {
   "cell_type": "markdown",
   "id": "4c6b0af7-68cd-4623-874e-34302a62c6fe",
   "metadata": {},
   "source": [
    "# EXERCISE 1: TRAVELLING SALESPERSON\n",
    "Download the python code and save it in an accessible folder\n",
    "```bash\n",
    "python -m cProfile travellingsales.py <integer, nb of cities>\n",
    "```"
   ]
  },
  {
   "cell_type": "markdown",
   "id": "ef49bad7-0951-4902-81fe-71026c5567ae",
   "metadata": {},
   "source": [
    "TODO: \n",
    "analyse the code and provide a summary, explaining the key points of the code.\n",
    "Running the profiling multiple times with different number of cities to showcase the importance of inputs in catching the bottlenecks, and also showing the tradeoff between choosing the fastest setup to catch the bottlenecks"
   ]
  },
  {
   "cell_type": "code",
   "execution_count": 8,
   "id": "683d61f6-3267-438e-8e80-a81ca62ad2ca",
   "metadata": {
    "scrolled": true
   },
   "outputs": [
    {
     "name": "stdout",
     "output_type": "stream",
     "text": [
      "Script expects 1 positive integer argument, 2 found.\n"
     ]
    },
    {
     "ename": "SystemExit",
     "evalue": "",
     "output_type": "error",
     "traceback": [
      "An exception has occurred, use %tb to see the full traceback.\n",
      "\u001b[31mSystemExit\u001b[39m\n"
     ]
    }
   ],
   "source": [
    "# save it as travellingsales.py\n",
    "\"\"\"\n",
    "Naive brute force travelling salesperson\n",
    "python travellingsales.py <cities>\n",
    "\"\"\"\n",
    "\n",
    "import itertools\n",
    "import math\n",
    "import random\n",
    "import sys\n",
    "\n",
    "# calculates euclidean distance between two points\n",
    "def distance(point1, point2):\n",
    "    return math.sqrt((point2[0] - point1[0])**2 + (point2[1] - point1[1])**2)\n",
    "\n",
    "# calculates total distance among a set of points in a specific order\n",
    "def total_distance(points, order):\n",
    "    total = 0\n",
    "    for i in range(len(order) - 1):\n",
    "        total += distance(points[order[i]], points[order[i + 1]])\n",
    "    return total + distance(points[order[-1]], points[order[0]])\n",
    "\n",
    "# calculates the shortest path to link as set of points\n",
    "def traveling_salesman_brute_force(points):\n",
    "    min_distance = float('inf')\n",
    "    min_path = None\n",
    "    # create permutations: factorial n!\n",
    "    for order in itertools.permutations(range(len(points))):\n",
    "        d = total_distance(points, order)\n",
    "        if d < min_distance:\n",
    "            min_distance = d\n",
    "            min_path = order\n",
    "    return min_path, min_distance\n",
    "\n",
    "# Argument parsing\n",
    "if len(sys.argv) != 2:\n",
    "    print(\"Script expects 1 positive integer argument, %u found.\"%(len(sys.argv) - 1))\n",
    "    sys.exit()\n",
    "cities_len = int(sys.argv[1])\n",
    "if cities_len < 1:\n",
    "    print(\"Script expects 1 positive integer argument, %s converts < 1.\"%(sys.argv[1]))\n",
    "    sys.exit()\n",
    "# Define the cities as (x, y) coordinates\n",
    "random.seed(12) # Fixed random for consistency\n",
    "cities = [(0,0)]\n",
    "for i in range(cities_len):\n",
    "    cities.append((random.uniform(-1, 1), random.uniform(-1, 1)))\n",
    "\n",
    "# Find the shortest path\n",
    "shortest_path, min_distance = traveling_salesman_brute_force(cities)\n",
    "print(\"Cities:\", cities_len)\n",
    "print(\"Shortest Path:\", shortest_path)\n",
    "print(\"Shortest Distance:\", min_distance)"
   ]
  },
  {
   "cell_type": "code",
   "execution_count": 4,
   "id": "2bbd6c3c-c427-46a6-b1ef-1ae01c400ae5",
   "metadata": {},
   "outputs": [
    {
     "data": {
      "text/plain": [
       "3628800"
      ]
     },
     "execution_count": 4,
     "metadata": {},
     "output_type": "execute_result"
    }
   ],
   "source": [
    "# to calculate the shortest distance between a set of points,\n",
    "# first, we need to find the number of possible paths: factorial of the number of points (n!)\n",
    "# Second, calculate the total path for each possible path\n",
    "# Finally, find the minimum path and return the path and the minimal distance\n",
    "\n",
    "# for, 5 points, there are 5*4*3*2*1 = math.factorial(5) = 120 possibilities\n",
    "# for 10 points, there are 10*9*8*..*5*4*3*2*1 = math.factorial(10) = 3 628 800 possibilities!!!\n",
    "import math\n",
    "math.factorial(10)"
   ]
  },
  {
   "cell_type": "code",
   "execution_count": null,
   "id": "86efcc38-eec6-4b7b-b551-ec2c18e4ad97",
   "metadata": {},
   "outputs": [],
   "source": [
    "# 39 916 800   77.465    0.000  201.843    0.000 travellingsales.py:14(total_distance)\n",
    "# 439 084 800  109.961    0.000  123.194    0.000 travellingsales.py:11(distance)"
   ]
  },
  {
   "cell_type": "markdown",
   "id": "28974e50-8f5d-44cb-b7da-0f72ff82f577",
   "metadata": {},
   "source": [
    "### run the cProfile tool on this file\n",
    "```bash\n",
    "python -m cprofile -p out2.prof travellingsales.py 1\n",
    "python -m cprofile -p out2.prof travellingsales.py 5\n",
    "python -m cprofile -p out2.prof travellingsales.py 10\n",
    "\n",
    "# visualise\n",
    "python -m snakeviz out2.prof \n",
    "```"
   ]
  },
  {
   "cell_type": "markdown",
   "id": "ef2ed065-f80c-48ae-b098-dc839cf6dcd2",
   "metadata": {},
   "source": [
    "The hotspot only becomes visible when an argument of 5 or greater is passed.\n",
    "\n",
    "You should see that distance() (from `travellingsales.py:11`) becomes the largest box (similarly it’s parent in the call-stack `total_distance()`) showing that it scales poorly with the number of cities. \n",
    "With 5 cities, `distance()` has a cumulative time of `~35%` the runtime, this increases to `~60% with 9 cities`.\n",
    "\n",
    "Other boxes within the diagram correspond to the initialisation of imports, or initialisation of cities. These have constant or linear scaling, so their cost barely increases with the number of cities.\n",
    "\n",
    "This highlights the need to profile a realistic test-case expensive enough that initialisation costs are not the most expensive component."
   ]
  },
  {
   "cell_type": "markdown",
   "id": "e6e47489-a90a-4220-b6dd-7b14797d31c8",
   "metadata": {},
   "source": [
    "# 15min BREAK NOW"
   ]
  }
 ],
 "metadata": {
  "kernelspec": {
   "display_name": "Python 3 (ipykernel)",
   "language": "python",
   "name": "python3"
  },
  "language_info": {
   "codemirror_mode": {
    "name": "ipython",
    "version": 3
   },
   "file_extension": ".py",
   "mimetype": "text/x-python",
   "name": "python",
   "nbconvert_exporter": "python",
   "pygments_lexer": "ipython3",
   "version": "3.11.8"
  }
 },
 "nbformat": 4,
 "nbformat_minor": 5
}
