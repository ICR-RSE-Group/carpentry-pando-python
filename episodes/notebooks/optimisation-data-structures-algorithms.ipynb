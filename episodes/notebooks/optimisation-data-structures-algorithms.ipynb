{
 "cells": [
  {
   "cell_type": "markdown",
   "id": "92697d2d",
   "metadata": {},
   "source": [
    "# Data Structures & Algorithms"
   ]
  },
  {
   "cell_type": "markdown",
   "id": "2a178791",
   "metadata": {},
   "source": [
    "- This episode is more theoretical diving into data structures and algorithms \n",
    "- This will allow us to understand what approaches would likely to execute faster than another\n",
    "- It is important not to obsess over fully understand data structure and algorithms (although it does help, but to recognise slower/faster approaches"
   ]
  },
  {
   "cell_type": "markdown",
   "id": "56e91d74",
   "metadata": {},
   "source": [
    "## 1.1 Lists"
   ]
  },
  {
   "cell_type": "markdown",
   "id": "e4787b97",
   "metadata": {},
   "source": [
    "- Lists are a fundamental data structure within Python.\n",
    "- It is implemented as a form of dynamic array found within many programming languages by different names (C++: std::vector, Java: ArrayList, R: vector, Julia: Vector).\n",
    "- They allow direct and sequential element access "
   ]
  },
  {
   "cell_type": "markdown",
   "id": "a57acfa0",
   "metadata": {},
   "source": [
    "How are lists organised?\n",
    "- Python lists are built on static arrays:\n",
    "- A static array is a block of contiguous memory (adjacent boxes).\n",
    "- Each box stores a pointer to a list element.\n",
    "- Alongside the array, Python tracks the current length (len(my_list)).\n",
    "\n",
    "Appending when there’s spare space\n",
    "- The array may be longer than the list so there’s room to grow.\n",
    "- When you call .append() when there’s space → the item is added to the next empty slot, and the length counter increases.\n",
    "- If no spare slots remain, Python will allocate a larger array (new contiguous block).\n",
    "- It will copy all existing pointers into the new array.\n",
    "- The old array is deallocated.\n",
    "- The new item is placed at the end.\n",
    "- Small lists resize often, but as lists grow, resizes become rarer and has a logarithmic growht curve\n",
    "\n",
    "Conclusion - using append() results in large amount of redundant allocations and copies"
   ]
  },
  {
   "cell_type": "markdown",
   "id": "88b39c5d",
   "metadata": {},
   "source": [
    "What should you use instead? - list comprehensions!\n",
    "- List comprehension can be twice as fast at building lists than using append()\n",
    "- This is because list comprehension allows to offload a lot of the computation onto faster C code"
   ]
  },
  {
   "cell_type": "markdown",
   "id": "48dcd40f",
   "metadata": {},
   "source": [
    "- The following benchmark can provide clear results:"
   ]
  },
  {
   "cell_type": "code",
   "execution_count": null,
   "id": "3b8b3bc6",
   "metadata": {},
   "outputs": [],
   "source": [
    "from timeit import timeit\n",
    "\n",
    "def list_append():\n",
    "    li = []\n",
    "    for i in range(100000):\n",
    "        li.append(i)\n",
    "\n",
    "def list_preallocate():\n",
    "    li = [0]*100000\n",
    "    for i in range(100000):\n",
    "        li[i] = i\n",
    "\n",
    "def list_comprehension():\n",
    "    li = [i for i in range(100000)]\n",
    "\n",
    "repeats = 1000\n",
    "print(f\"Append: {timeit(list_append, number=repeats):.2f}ms\")\n",
    "print(f\"Preallocate: {timeit(list_preallocate, number=repeats):.2f}ms\")\n",
    "print(f\"Comprehension: {timeit(list_comprehension, number=repeats):.2f}ms\")"
   ]
  },
  {
   "cell_type": "markdown",
   "id": "a51655f8",
   "metadata": {},
   "source": [
    "- List comprehension was 2x faster, with pre-allocate fairing in the middle\n",
    "- This also is dependent on python versions, hardware and lists length "
   ]
  },
  {
   "cell_type": "markdown",
   "id": "2038fa9f",
   "metadata": {},
   "source": [
    "## 1.2 Tuples"
   ]
  },
  {
   "cell_type": "markdown",
   "id": "b9c3b12e",
   "metadata": {},
   "source": [
    "- Unlike lists which dynamic arrays, are tuples are immutable static arrays\n",
    "- That means once created, they cannot be changed and the array cannot be resized \n",
    "- They behave more like strings than lists \n",
    "- They are useful in representing fixed groups of values \n",
    "- Tuples can be joined with a + but a result is always a new tuple (no over allocation)"
   ]
  },
  {
   "cell_type": "markdown",
   "id": "4a2dd8cf",
   "metadata": {},
   "source": [
    "Why are tuples faster?\n",
    "- *CPython cahces a lot of short tuples (1-20 elemets)* - EXPLAIN BETTER\n",
    "- That means creating and destroying them is very cheap and costs little memory "
   ]
  },
  {
   "cell_type": "markdown",
   "id": "620b2d3b",
   "metadata": {},
   "source": [
    "- We can test the performance of list and tuple allocation using `timeit` module"
   ]
  },
  {
   "cell_type": "code",
   "execution_count": null,
   "id": "a6699694",
   "metadata": {
    "vscode": {
     "languageId": "shellscript"
    }
   },
   "outputs": [],
   "source": [
    "python -m timeit \"li = [0,1,2,3,4,5]\"\n",
    "python -m timeit \"tu = (0,1,2,3,4,5)\""
   ]
  },
  {
   "cell_type": "markdown",
   "id": "6f03228d",
   "metadata": {},
   "source": [
    "- You can see it takes 3 times longer to allocate a list than tuple the same size"
   ]
  },
  {
   "cell_type": "markdown",
   "id": "8d65ded1",
   "metadata": {},
   "source": [
    "Key takeaway\n",
    "- Lists: flexible, dynamic, can grow/shrink, but slower to allocate.\n",
    "- Tuples: fixed, immutable, faster to allocate, useful for grouping stable values."
   ]
  },
  {
   "cell_type": "markdown",
   "id": "2b274e37",
   "metadata": {},
   "source": [
    "## 1.3 Dictionaries"
   ]
  },
  {
   "cell_type": "markdown",
   "id": "72c9dfc8",
   "metadata": {},
   "source": [
    "- Another fundamental Python data-structure\n",
    "- Provide key-value store\n",
    "- There is no intrinsic order on the dictionary: { \"a\": 1, \"b\": 2 } is the same dictionary as { \"b\": 2, \"a\": 1 }\n",
    "- They are hashing data structures "
   ]
  },
  {
   "cell_type": "markdown",
   "id": "466a0e5f",
   "metadata": {},
   "source": [
    "List = one long bookshelf\n",
    "- When you add a book, it just goes at the end.\n",
    "- To find a specific book, you might need to scan through every book.\n",
    "- That’s like searching through a list — slow if the list is big.\n",
    "\n",
    "Dictionary = bookcase with labeled shelves\n",
    "- Each book is placed on a shelf based on its genre/author label.\n",
    "- To find a book, you jump straight to the right shelf.\n",
    "- That’s like hashing: the key is turned into a label that tells Python exactly where to look.\n",
    "\n",
    "Why faster?\n",
    "- With a list, lookup is linear → you may need to check every element.\n",
    "- With a dictionary, lookup is constant time → go straight to the correct “shelf” using the hash."
   ]
  },
  {
   "cell_type": "markdown",
   "id": "ea46364b",
   "metadata": {},
   "source": [
    "(CUSTOM DICTIONARY KEYS: OPTIONAL)"
   ]
  },
  {
   "cell_type": "markdown",
   "id": "d897b389",
   "metadata": {},
   "source": [
    "What can be a dictionary key?\n",
    "- Usually: simple types like numbers or strings.\n",
    "- Sometimes: you may want to combine values into one compound key.\n",
    "- Example: a (row, column) tuple to represent a grid cell.\n",
    "- Even custom objects can be keys — but only if they know how to, for which we need to create a custom class and:\n",
    "-- Compare equality (__eq__)\n",
    "-- Produce a hash value (__hash__)"
   ]
  },
  {
   "cell_type": "markdown",
   "id": "0e6a47e1",
   "metadata": {},
   "source": [
    "Why hashing matters\n",
    "- Python uses the hash of the key to decide where in memory to store the value.\n",
    "- Rule: if two objects are considered equal, they must also have the same hash.\n",
    "- Otherwise, dictionary lookups would break."
   ]
  },
  {
   "cell_type": "code",
   "execution_count": null,
   "id": "31a74be6",
   "metadata": {},
   "outputs": [],
   "source": [
    "class MyKey:\n",
    "\n",
    "    def __init__(self, _a, _b, _c):\n",
    "        self.a = _a\n",
    "        self.b = _b\n",
    "        self.c = _c\n",
    "\n",
    "    def __eq__(self, other):\n",
    "        return (isinstance(other, type(self))\n",
    "                and (self.a, self.b, self.c) == (other.a, other.b, other.c))\n",
    "\n",
    "    def __hash__(self):\n",
    "        return hash((self.a, self.b, self.c))\n",
    "\n",
    "dict = {}\n",
    "dict[MyKey(\"one\", 2, 3.0)] = 12"
   ]
  },
  {
   "cell_type": "markdown",
   "id": "95c10227",
   "metadata": {},
   "source": [
    "## 1.4 Sets"
   ]
  },
  {
   "cell_type": "markdown",
   "id": "4d7664aa",
   "metadata": {},
   "source": [
    "- Dictionary without values - only unique keys\n",
    "- Equivalent to a mathematical set which has no duplicates, no order\n",
    "- It is mainly used for elimination of duplicates and for fast checks of element presence"
   ]
  },
  {
   "cell_type": "markdown",
   "id": "e75ff595",
   "metadata": {},
   "source": [
    "Why are sets fast?\n",
    "- Use hashing like dictionaries\n",
    "- That means instead of scanning every element (like a list), Python jumps straight to the right “bucket” to check if an element exists\n",
    "- This makes in checks and duplicate removal much faster than lists, especially as data grows"
   ]
  },
  {
   "cell_type": "code",
   "execution_count": null,
   "id": "8bbf7001",
   "metadata": {},
   "outputs": [],
   "source": [
    "import random\n",
    "from timeit import timeit\n",
    "\n",
    "def generateInputs(N = 25000):\n",
    "    random.seed(12)  # Ensure every list is the same \n",
    "    return [random.randint(0,int(N/2)) for i in range(N)]\n",
    "    \n",
    "def uniqueSet():\n",
    "    ls_in = generateInputs()\n",
    "    set_out = set(ls_in)\n",
    "    \n",
    "def uniqueSetAdd():\n",
    "    ls_in = generateInputs()\n",
    "    set_out = set()\n",
    "    for i in ls_in:\n",
    "        set_out.add(i)\n",
    "    \n",
    "def uniqueList():\n",
    "    ls_in = generateInputs()\n",
    "    ls_out = []\n",
    "    for i in ls_in:\n",
    "        if not i in ls_out:\n",
    "            ls_out.append(i)\n",
    "\n",
    "def uniqueListSort():\n",
    "    ls_in = generateInputs()\n",
    "    ls_in.sort()\n",
    "    ls_out = [ls_in[0]]\n",
    "    for i in ls_in:\n",
    "        if ls_out[-1] != i:\n",
    "            ls_out.append(i)\n",
    "            \n",
    "repeats = 1000\n",
    "gen_time = timeit(generateInputs, number=repeats)\n",
    "print(f\"uniqueSet: {timeit(uniqueSet, number=repeats)-gen_time:.2f}ms\")\n",
    "print(f\"uniqueSetAdd: {timeit(uniqueSetAdd, number=repeats)-gen_time:.2f}ms\")\n",
    "print(f\"uniqueList: {timeit(uniqueList, number=repeats)-gen_time:.2f}ms\")\n",
    "print(f\"uniqueListSort: {timeit(uniqueListSort, number=repeats)-gen_time:.2f}ms\")"
   ]
  },
  {
   "cell_type": "markdown",
   "id": "3c7ff36c",
   "metadata": {},
   "source": [
    "## 1.5 Searching "
   ]
  },
  {
   "cell_type": "markdown",
   "id": "3f56c96f",
   "metadata": {},
   "source": [
    "When we want to find out if an item exists, the data structure matters a lot for performance.\n",
    "\n",
    "1. Searching in a set (hashing)\n",
    "\n",
    "- A set uses hashing to jump straight to the right bucket\n",
    "\n",
    "- If there are no collisions, the item is found almost immediately. Even with collisions, lookups are usually still very fast.\n",
    "\n",
    "- On average: O(1) time per search."
   ]
  },
  {
   "cell_type": "markdown",
   "id": "25df36b6",
   "metadata": {},
   "source": [
    "2. Searching in a list (linear search)\n",
    "\n",
    "- Python starts at the first element and checks one by one.\n",
    "\n",
    "- If the item isn’t there, it will check every single element\n",
    "\n",
    "- On average, it will search half the list before finding the item.\n",
    "\n",
    "- On average: O(N) time per search."
   ]
  },
  {
   "cell_type": "markdown",
   "id": "01f0a1d9",
   "metadata": {},
   "source": [
    "3. Searching in a sorted list (binary search)\n",
    "\n",
    "- If the list is sorted, we can use divide and conquer: 1. look in the middle, decide whether to search the left half or the right half. 2. Repeat until found or not found.\n",
    "\n",
    "- Each step halves the problem, so it only needs about log₂N checks\n",
    "\n",
    "- On average: O(log N) time per search."
   ]
  },
  {
   "cell_type": "code",
   "execution_count": null,
   "id": "63d3eb19",
   "metadata": {},
   "outputs": [],
   "source": [
    "import random\n",
    "from timeit import timeit\n",
    "from bisect import bisect_left\n",
    "\n",
    "N = 25000  # Number of elements in list\n",
    "M = 2  # N*M == Range over which the elements span\n",
    "\n",
    "def generateInputs():\n",
    "    random.seed(12)  # Ensure every list is the same\n",
    "    st = set([random.randint(0, int(N*M)) for i in range(N)])\n",
    "    ls = list(st)\n",
    "    ls.sort()  # Sort required for binary\n",
    "    return st, ls  # Return both set and list\n",
    "    \n",
    "def search_set():\n",
    "    st, _ = generateInputs()\n",
    "    j = 0\n",
    "    for i in range(0, int(N*M), M):\n",
    "        if i in st:\n",
    "            j += 1\n",
    "    \n",
    "def linear_search_list():\n",
    "    _, ls = generateInputs()\n",
    "    j = 0\n",
    "    for i in range(0, int(N*M), M):\n",
    "        if i in ls:\n",
    "            j += 1\n",
    "    \n",
    "def binary_search_list():\n",
    "    _, ls = generateInputs()\n",
    "    j = 0\n",
    "    for i in range(0, int(N*M), M):\n",
    "        k = bisect_left(ls, i)\n",
    "        if k != len(ls) and ls[k] == i:\n",
    "            j += 1\n",
    "\n",
    "            \n",
    "repeats = 1000\n",
    "gen_time = timeit(generateInputs, number=repeats)\n",
    "print(f\"search_set: {timeit(search_set, number=repeats)-gen_time:.2f}ms\")\n",
    "print(f\"linear_search_list: {timeit(linear_search_list, number=repeats)-gen_time:.2f}ms\")\n",
    "print(f\"binary_search_list: {timeit(binary_search_list, number=repeats)-gen_time:.2f}ms\")"
   ]
  }
 ],
 "metadata": {
  "language_info": {
   "name": "python"
  }
 },
 "nbformat": 4,
 "nbformat_minor": 5
}
