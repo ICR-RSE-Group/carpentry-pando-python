{
 "cells": [
  {
   "cell_type": "code",
   "execution_count": null,
   "id": "6438a865",
   "metadata": {},
   "outputs": [],
   "source": [
    "# Python code\n",
    "a = 1\n",
    "b = 2\n",
    "c = a + b"
   ]
  },
  {
   "cell_type": "code",
   "execution_count": null,
   "id": "b38dca50",
   "metadata": {},
   "outputs": [],
   "source": [
    "# file: test_demonstration.py\n",
    "\n",
    "# A simple function to be tested, this could instead be an imported package\n",
    "def squared(x):\n",
    "    return x**2\n",
    "\n",
    "# A simple test case\n",
    "def test_example():\n",
    "    assert squared(5) == 24"
   ]
  }
 ],
 "metadata": {},
 "nbformat": 4,
 "nbformat_minor": 5
}
