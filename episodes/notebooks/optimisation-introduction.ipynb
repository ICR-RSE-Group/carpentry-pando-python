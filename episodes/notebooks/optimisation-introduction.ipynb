{
 "cells": [
  {
   "cell_type": "markdown",
   "id": "232c9568",
   "metadata": {},
   "source": [
    "# Introduction to Optimisation"
   ]
  },
  {
   "cell_type": "markdown",
   "id": "60d9a321",
   "metadata": {},
   "source": [
    "## 1.1 Introduction"
   ]
  },
  {
   "cell_type": "markdown",
   "id": "d320c5d5",
   "metadata": {},
   "source": [
    "- Having found the bottleneck parts if your code, we can consider how to start improving them.\n",
    "- Big part of knowing how to optimise your code lies in understanding how a computer executes it at a high level. \n",
    "- For this reason, we would need to know how some data structures and algorithms work. \n",
    "- We also need to know how Python works, because if you had learned how to write code out of necessity to get something to work, it is common that you have not fully learnt Pythonic programming, which can be reflected in your code's performance.  \n",
    "- In this section we will be learning transferable, more theoretical knowledge which you can use in any language to make informed choices when you write your code, since the data structures and algorithms used commonly in many languages. "
   ]
  },
  {
   "cell_type": "markdown",
   "id": "2961da13",
   "metadata": {},
   "source": [
    "## 1.2 Performance vs Maintainability "
   ]
  },
  {
   "cell_type": "markdown",
   "id": "90e3e6d0",
   "metadata": {},
   "source": [
    "- Premature optimisation is the root of all evil - Donald Knuth.\n",
    "- Firstly, it is important to understand that you not obsess over optimising code the first time you do it, as it usually comes with iteration.\n",
    "- Secondly, we need to consider both performance and maintainability, since making code more optimised comes with the trade-off of making it harder to understand for you and other developers on your team\n",
    "- Sometimes if you don't look at the code for long enough, you might find it difficult to understand later.\n",
    "- So make sure that, when you use profiling you optimise the most inefficient parts of your code first."
   ]
  },
  {
   "cell_type": "markdown",
   "id": "c16699f6",
   "metadata": {},
   "source": [
    "## 1.3 Performance of Python"
   ]
  },
  {
   "cell_type": "markdown",
   "id": "1a49b2a2",
   "metadata": {},
   "source": [
    "- Now, we are going to learn a bit more about Python.\n",
    "- As you might now, Python is an interpreter language.\n",
    "- There are also type of languages called compiler languages like C.\n",
    "- You may have heard that python is slow because it is an interpreter language...\n",
    "- Let's break down why that is"
   ]
  },
  {
   "cell_type": "markdown",
   "id": "a1ccf317",
   "metadata": {},
   "source": [
    "Compiled languages (like C):\n",
    "- Your source code is translated beforehand into machine code that the CPU can run directly. This means the program runs very fast, because there’s no middleman at runtime. But it also means the program is tied to the platform it was compiled for — if you move to another system, you may need to recompile it.\n",
    "\n",
    "Interpreted languages (like Python):\n",
    "- Here, the source code isn’t turned into machine code ahead of time. Instead, the interpreter reads and executes the code as the program runs. This makes things more flexible and portable, but slower, because the interpreter is constantly working in the background."
   ]
  },
  {
   "cell_type": "markdown",
   "id": "dc138bbf",
   "metadata": {},
   "source": [
    "- In C, integers and other basic types are just raw memory. The programmer must track how data is used, but in return, the compiler can directly optimise the code for the hardware. This gives high performance."
   ]
  },
  {
   "cell_type": "code",
   "execution_count": null,
   "id": "f3c85a81",
   "metadata": {
    "vscode": {
     "languageId": "shellscript"
    }
   },
   "outputs": [],
   "source": [
    "# C code\n",
    "int a = 1;\n",
    "int b = 2;\n",
    "int c = a + b;"
   ]
  },
  {
   "cell_type": "markdown",
   "id": "45b9b6f1",
   "metadata": {},
   "source": [
    "- In Python, everything is treated as an object. The interpreter adds extra information to keep track of types and memory at runtime. This makes programming much easier and more flexible, but the extra book-keeping costs time and memory."
   ]
  },
  {
   "cell_type": "code",
   "execution_count": null,
   "id": "6438a865",
   "metadata": {},
   "outputs": [],
   "source": [
    "# Python code\n",
    "a = 1\n",
    "b = 2\n",
    "c = a + b"
   ]
  },
  {
   "cell_type": "markdown",
   "id": "86c8f504",
   "metadata": {},
   "source": [
    "- We can test this hands on\n",
    "- Lets see how much memory strings, arrays and integers take up n C\n",
    "- All the measurements come in bytes "
   ]
  },
  {
   "cell_type": "code",
   "execution_count": null,
   "id": "1f7479fd",
   "metadata": {
    "vscode": {
     "languageId": "shellscript"
    }
   },
   "outputs": [],
   "source": [
    "# C code to test sizes of different data types\n",
    "# https://www.onlinegdb.com/online_c_compiler\n",
    "#include <stdio.h>\n",
    "#include <string.h>\n",
    "\n",
    "int main() {\n",
    "    // Strings in C are just arrays of chars, ending with '\\0'\n",
    "    printf(\"sizeof(\\\"\\\") = %zu\\n\", sizeof(\"\"));      // 1 (just '\\0')\n",
    "    printf(\"sizeof(\\\"a\\\") = %zu\\n\", sizeof(\"a\"));    // 2 ('a' + '\\0')\n",
    "    printf(\"sizeof(\\\"ab\\\") = %zu\\n\", sizeof(\"ab\"));  // 3 ('a','b','\\0')\n",
    "    \n",
    "    char a = 'a'; // string literal\n",
    "    printf(\"sizeof(\\\"a\\\") = %zu\\n\", sizeof(a)); // 1\n",
    "\n",
    "    // Arrays: size depends on number of elements * size of element\n",
    "    int arr1[1];\n",
    "    int arr10[10];\n",
    "\n",
    "    printf(\"sizeof(arr1) = %zu\\n\", sizeof(arr1));   // 4\n",
    "    printf(\"sizeof(arr10) = %zu\\n\", sizeof(arr10)); // 40 (10 * 4)\n",
    "\n",
    "    // Integers: always 4 bytes\n",
    "    int x = 1;\n",
    "    printf(\"sizeof(x) = %zu\\n\", sizeof(x)); // 4\n",
    "\n",
    "    return 0;\n",
    "}"
   ]
  },
  {
   "cell_type": "markdown",
   "id": "0755c3d3",
   "metadata": {},
   "source": [
    "- Now, lest see the same for python data\n",
    "- As you can see, each data type takes up more memory because the also store some internal information used by the interpreter "
   ]
  },
  {
   "cell_type": "code",
   "execution_count": null,
   "id": "09724a81",
   "metadata": {},
   "outputs": [],
   "source": [
    "import sys\n",
    "\n",
    "sys.getsizeof(\"\")  # 41\n",
    "sys.getsizeof(\"a\")  # 42\n",
    "sys.getsizeof(\"ab\")  # 43\n",
    "\n",
    "sys.getsizeof([])  # 56\n",
    "sys.getsizeof([\"a\"])  # 64\n",
    "\n",
    "sys.getsizeof(1)  # 28"
   ]
  },
  {
   "cell_type": "markdown",
   "id": "e78d30c8",
   "metadata": {},
   "source": [
    "- We gain simplicity in code, however, we lose performance \n",
    "- Most of the time, Python is “fast enough” for everyday tasks. But there are some cases where performance really matters — like heavy math, simulations, or processing large datasets.\n",
    "- To deal with this, Python can “borrow speed” from lower-level languages such as C, Fortran, or Rust. Many libraries take advantage of this trick: they do the heavy lifting in fast, low-level code, and then return the result to you as a normal Python object.\n",
    "- Example: we’ll see this with NumPy later, but even parts of the Python standard library work this way."
   ]
  },
  {
   "cell_type": "markdown",
   "id": "6e8b3764",
   "metadata": {},
   "source": [
    "Instead of writing step-by-step low-level instructions yourself, it’s usually best to:\n",
    "\n",
    "- 1) Tell the interpreter or library what you want done (at a high level).\n",
    "\n",
    "- 2) Let the library figure out how to do it under the hood.\n",
    "\n",
    "This has two big benefits:\n",
    "\n",
    "- 1) The library can run the heavy work in fast low-level code, adding overhead only once when it hands back the Python object.\n",
    "\n",
    "- 2) Your code becomes more readable: others can see your intent clearly, without being distracted by low-level details."
   ]
  },
  {
   "cell_type": "markdown",
   "id": "b7cbd880",
   "metadata": {},
   "source": [
    "## 1.4 Ensuring reproducible results + pytest Overview"
   ]
  },
  {
   "cell_type": "markdown",
   "id": "a54fc03a",
   "metadata": {},
   "source": [
    "- When you optimise existing code, especially after your first iteration of some simple code, it is easy to make subtle mistakes\n",
    "- To make sure your code change does not lead to mistakes, it is crucial to check that the code remains correct\n",
    "- The best tools for that is testing, which is an integral part of any development process\n",
    "- It help to catch unexpected behaviour and ensure everything works as intended "
   ]
  },
  {
   "cell_type": "markdown",
   "id": "b9817db9",
   "metadata": {},
   "source": [
    "- The most commonly used testing package for is Pytest and it's also great for starters\n",
    "- It automatically finds and runs your test functions\n",
    "- Test functions check your codes output against what you expect "
   ]
  },
  {
   "cell_type": "markdown",
   "id": "3a7ac746",
   "metadata": {},
   "source": [
    "How pytest finds tests\n",
    "- 1) Put your tests in a `tests/` directory.\n",
    "- 2) Test file names should be written as:\n",
    "- 3) test_*.py (e.g. test_math.py), or\n",
    "- 4) *_test.py (e.g. math_test.py).\n",
    "- Inside those files, any function whose name starts with test_ will be run by pytest."
   ]
  },
  {
   "cell_type": "code",
   "execution_count": null,
   "id": "b38dca50",
   "metadata": {},
   "outputs": [],
   "source": [
    "# file: test_demonstration.py\n",
    "\n",
    "# A simple function to be tested, this could instead be an imported package\n",
    "def squared(x):\n",
    "    return x**2\n",
    "\n",
    "# A simple test case\n",
    "def test_example():\n",
    "    assert squared(5) == 24"
   ]
  },
  {
   "cell_type": "markdown",
   "id": "df3e8589",
   "metadata": {},
   "source": [
    "Here, we’re checking whether squared(5) is equal to 24.\n",
    "- From the terminal, run Pytest\n",
    "- Pytest will search for tests, run them, and show the results.\n",
    "- In this case the test fails because squared(5) is actually 25, not 24."
   ]
  },
  {
   "cell_type": "markdown",
   "id": "a1edaeb2",
   "metadata": {},
   "source": [
    "What pytest tells you\n",
    "- Which tests passed or failed.\n",
    "- Why a test failed (it shows both values).\n",
    "- Whilst not designed for benchmarking, it does provide the total time the test suite took to execute."
   ]
  },
  {
   "cell_type": "markdown",
   "id": "96adb182",
   "metadata": {},
   "source": [
    "This is just the beginning! There are other more advanced features common to other testing frameworks such as \n",
    "- Fixtures: prepare data or state for your tests.\n",
    "- Mocking: fake parts of the system, so you can test in isolation.\n",
    "- Skipping: tell Pytest to skip certain tests.\n",
    "- You’ll likely explore these features as your projects grow."
   ]
  },
  {
   "cell_type": "markdown",
   "id": "c782e6c1",
   "metadata": {},
   "source": []
  }
 ],
 "metadata": {
  "language_info": {
   "name": "python"
  }
 },
 "nbformat": 4,
 "nbformat_minor": 5
}
