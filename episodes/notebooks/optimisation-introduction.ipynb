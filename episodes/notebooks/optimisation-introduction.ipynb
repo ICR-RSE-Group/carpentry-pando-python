{
 "cells": [
  {
   "cell_type": "markdown",
   "id": "232c9568",
   "metadata": {},
   "source": [
    "# Introduction to Optimisation"
   ]
  },
  {
   "cell_type": "markdown",
   "id": "60d9a321",
   "metadata": {},
   "source": [
    "## 1.1 Introduction"
   ]
  },
  {
   "cell_type": "markdown",
   "id": "d320c5d5",
   "metadata": {},
   "source": [
    "- Having found the bottleneck parts if your code, we can consider how to start improving them.\n",
    "\n",
    "- Big part of knowing how to optimise your code lies in understanding how a computer executes it at a high level. \n",
    "\n",
    "- For this reason, we would need to know how some data structures and algorithms work. \n",
    "\n",
    "- We also need to know how Python works, because if you had learned how to write code out of necessity to get something to work, it is common that you have not fully learnt Pythonic programming, which can be reflected in your code's performance.  \n",
    "\n",
    "- In this section we will be learning transferable, more theoretical knowledge which you can use in any language to make informed choices when you write your code, since the data structures and algorithms used commonly in many languages. "
   ]
  },
  {
   "cell_type": "markdown",
   "id": "2961da13",
   "metadata": {},
   "source": [
    "## 1.2 Performance vs Maintainability "
   ]
  },
  {
   "cell_type": "markdown",
   "id": "90e3e6d0",
   "metadata": {},
   "source": [
    "- Premature optimisation is the root of all evil - Donald Knuth.\n",
    "\n",
    "- Firstly, it is important to understand that you not obsess over optimising code the first time you do it, as it usually comes with iteration.\n",
    "\n",
    "- Secondly, we need to consider both performance and maintainability, since making code more optimised comes with the trade-off of making it harder to understand for you and other developers on your team\n",
    "\n",
    "- Sometimes if you don't look at the code for long enough, you might find it difficult to understand later.\n",
    "\n",
    "- So make sure that, when you use profiling you optimise the most inefficient parts of your code first."
   ]
  },
  {
   "cell_type": "markdown",
   "id": "c16699f6",
   "metadata": {},
   "source": [
    "## 1.3 Performance of Python"
   ]
  },
  {
   "cell_type": "markdown",
   "id": "1a49b2a2",
   "metadata": {},
   "source": [
    "- Now, we are going to learn a bit more about Python.\n",
    "\n",
    "- As you might now, Python is an interpreter language.\n",
    "\n",
    "- There are also type of languages called compiler languages like C.\n",
    "\n",
    "- You may have heard that python is slow because it is an interpreter language...\n",
    "\n",
    "- Let's break down why that i"
   ]
  },
  {
   "cell_type": "markdown",
   "id": "a1ccf317",
   "metadata": {},
   "source": [
    "Compiled languages (like C):\n",
    "\n",
    "- Your source code is translated beforehand into machine code that the CPU can run directly. This means the program runs very fast, because there’s no middleman at runtime. But it also means the program is tied to the platform it was compiled for — if you move to another system, you may need to recompile it.\n",
    "\n",
    "Interpreted languages (like Python):\n",
    "\n",
    "- Here, the source code isn’t turned into machine code ahead of time. Instead, the interpreter reads and executes the code as the program runs. This makes things more flexible and portable, but slower, because the interpreter is constantly working in the background."
   ]
  },
  {
   "cell_type": "markdown",
   "id": "45b9b6f1",
   "metadata": {},
   "source": [
    "- In C, integers and other basic types are just raw memory. The programmer must track how data is used, but in return, the compiler can directly optimise the code for the hardware. This gives high performance.\n",
    "\n",
    "- In Python, everything is treated as an object. The interpreter adds extra information to keep track of types and memory at runtime. This makes programming much easier and more flexible, but the extra book-keeping costs time and memory."
   ]
  },
  {
   "cell_type": "code",
   "execution_count": 1,
   "id": "6438a865",
   "metadata": {},
   "outputs": [],
   "source": [
    "# Python code\n",
    "a = 1\n",
    "b = 2\n",
    "c = a + b"
   ]
  },
  {
   "cell_type": "markdown",
   "id": "0755c3d3",
   "metadata": {},
   "source": [
    "- Now, lest see the same for python data\n",
    "\n",
    "- As you can see, each data type takes up more memory because the also store some internal information used by the interpreter "
   ]
  },
  {
   "cell_type": "code",
   "execution_count": 2,
   "id": "09724a81",
   "metadata": {},
   "outputs": [
    {
     "data": {
      "text/plain": [
       "28"
      ]
     },
     "execution_count": 2,
     "metadata": {},
     "output_type": "execute_result"
    }
   ],
   "source": [
    "import sys\n",
    "\n",
    "sys.getsizeof(\"\")  # 41\n",
    "sys.getsizeof(\"a\")  # 42\n",
    "sys.getsizeof(\"ab\")  # 43\n",
    "\n",
    "sys.getsizeof([])  # 56\n",
    "sys.getsizeof([\"a\"])  # 64\n",
    "\n",
    "sys.getsizeof(1)  # 28"
   ]
  },
  {
   "cell_type": "markdown",
   "id": "e78d30c8",
   "metadata": {},
   "source": [
    "- We gain simplicity in code, however, we lose performance \n",
    "\n",
    "- Most of the time, Python is “fast enough” for everyday tasks. But there are some cases where performance really matters — like heavy math, simulations, or processing large datasets.\n",
    "\n",
    "- To deal with this, Python can “borrow speed” from lower-level languages such as C, Fortran, or Rust. Many libraries take advantage of this trick: they do the heavy lifting in fast, low-level code, and then return the result to you as a normal Python object.\n",
    "\n",
    "- Example: we’ll see this with NumPy later, but even parts of the Python standard library work this way."
   ]
  },
  {
   "cell_type": "markdown",
   "id": "b7cbd880",
   "metadata": {},
   "source": [
    "## 1.4 Ensuring reproducible results + pytest Overview"
   ]
  },
  {
   "cell_type": "markdown",
   "id": "a54fc03a",
   "metadata": {},
   "source": [
    "- When you optimise existing code, especially after your first iteration of some simple code, it is easy to make subtle mistakes\n",
    "\n",
    "- To make sure your code change does not lead to mistakes, it is crucial to check that the code remains correct\n",
    "\n",
    "- The best tools for that is testing, which is an integral part of any development process\n",
    "\n",
    "- It help to catch unexpected behaviour and ensure everything works as intended "
   ]
  },
  {
   "cell_type": "markdown",
   "id": "b9817db9",
   "metadata": {},
   "source": [
    "- The most commonly used testing package for is Pytest and it's also great for starters\n",
    "\n",
    "- It automatically finds and runs your test functions\n",
    "\n",
    "- Test functions check your codes output against what you expect "
   ]
  },
  {
   "cell_type": "markdown",
   "id": "3a7ac746",
   "metadata": {},
   "source": [
    "How pytest finds tests?\n",
    "\n",
    "- 1) Put your tests in a `tests/` directory.\n",
    "\n",
    "- 2) Test file names should be written as:\n",
    "\n",
    "- 3) test_*.py (e.g. test_math.py), or\n",
    "\n",
    "- 4) *_test.py (e.g. math_test.py).\n",
    "\n",
    "- Inside those files, any function whose name starts with test_ will be run by pytest."
   ]
  },
  {
   "cell_type": "code",
   "execution_count": 3,
   "id": "b38dca50",
   "metadata": {},
   "outputs": [],
   "source": [
    "# file: test_demonstration.py\n",
    "\n",
    "# A simple function to be tested, this could instead be an imported package\n",
    "def squared(x):\n",
    "    return x**2\n",
    "\n",
    "# A simple test case\n",
    "def test_example():\n",
    "    assert squared(5) == 24"
   ]
  },
  {
   "cell_type": "markdown",
   "id": "df3e8589",
   "metadata": {},
   "source": [
    "Here, we’re checking whether squared(5) is equal to 24.\n",
    "\n",
    "- From the terminal, run Pytest\n",
    "\n",
    "- Pytest will search for tests, run them, and show the results.\n",
    "\n",
    "- In this case the test fails because squared(5) is actually 25, not 24."
   ]
  },
  {
   "cell_type": "markdown",
   "id": "a1edaeb2",
   "metadata": {},
   "source": [
    "What pytest tells you\n",
    "\n",
    "- Which tests passed or failed.\n",
    "\n",
    "- Why a test failed (it shows both values).\n",
    "\n",
    "- Whilst not designed for benchmarking, it does provide the total time the test suite took to execute."
   ]
  },
  {
   "cell_type": "markdown",
   "id": "96adb182",
   "metadata": {},
   "source": [
    "This is just the beginning! There are other more advanced features common to other testing frameworks such as \n",
    "\n",
    "- Fixtures: prepare data or state for your tests.\n",
    "\n",
    "- Mocking: fake parts of the system, so you can test in isolation.\n",
    "\n",
    "- Skipping: tell Pytest to skip certain tests.\n",
    "\n",
    "- You’ll likely explore these features as your projects grow."
   ]
  }
 ],
 "metadata": {
  "kernelspec": {
   "display_name": "Python 3 (ipykernel)",
   "language": "python",
   "name": "python3"
  },
  "language_info": {
   "codemirror_mode": {
    "name": "ipython",
    "version": 3
   },
   "file_extension": ".py",
   "mimetype": "text/x-python",
   "name": "python",
   "nbconvert_exporter": "python",
   "pygments_lexer": "ipython3",
   "version": "3.11.13"
  }
 },
 "nbformat": 4,
 "nbformat_minor": 5
}
