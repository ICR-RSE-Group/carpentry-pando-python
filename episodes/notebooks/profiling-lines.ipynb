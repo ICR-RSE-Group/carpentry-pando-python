{
 "cells": [
  {
   "cell_type": "code",
   "execution_count": null,
   "id": "abc7d375",
   "metadata": {},
   "outputs": [],
   "source": [
    "def is_prime(number):\n",
    "    if number < 2:\n",
    "        return False\n",
    "    for i in range(2, int(number**0.5) + 1):\n",
    "        if number % i == 0:\n",
    "            return False\n",
    "    return True\n",
    "    \n",
    "print(is_prime(1087))"
   ]
  },
  {
   "cell_type": "code",
   "execution_count": null,
   "id": "a613aa11",
   "metadata": {},
   "outputs": [],
   "source": [
    "from line_profiler import profile\n",
    "\n",
    "@profile\n",
    "def is_prime(number):\n",
    "    if number < 2:\n",
    "        return False\n",
    "    for i in range(2, int(number**0.5) + 1):\n",
    "        if number % i == 0:\n",
    "            return False\n",
    "    return True\n",
    "    \n",
    "print(is_prime(1087))"
   ]
  },
  {
   "cell_type": "code",
   "execution_count": null,
   "id": "99ac3e7e",
   "metadata": {},
   "outputs": [],
   "source": [
    "n = 100\n",
    "for i in range(1, n + 1):\n",
    "    if i % 3 == 0 and i % 5 == 0:\n",
    "        print(\"FizzBuzz\")\n",
    "    elif i % 3 == 0:\n",
    "        print(\"Fizz\")\n",
    "    elif i % 5 == 0:\n",
    "        print(\"Buzz\")\n",
    "    else:\n",
    "        print(i)"
   ]
  },
  {
   "cell_type": "code",
   "execution_count": null,
   "id": "26247123",
   "metadata": {},
   "outputs": [],
   "source": [
    "def fizzbuzz(n):\n",
    "    for i in range(1, n + 1):\n",
    "        if i % 3 == 0 and i % 5 == 0:\n",
    "            print(\"FizzBuzz\")\n",
    "        elif i % 3 == 0:\n",
    "            print(\"Fizz\")\n",
    "        elif i % 5 == 0:\n",
    "            print(\"Buzz\")\n",
    "        else:\n",
    "            print(i)\n",
    "\n",
    "fizzbuzz(100)"
   ]
  },
  {
   "cell_type": "code",
   "execution_count": null,
   "id": "5bc18776",
   "metadata": {},
   "outputs": [],
   "source": [
    "from line_profiler import profile\n",
    "\n",
    "@profile\n",
    "def fizzbuzz(n):\n",
    "    for i in range(1, n + 1):\n",
    "        if i % 3 == 0 and i % 5 == 0:\n",
    "            print(\"FizzBuzz\")\n",
    "        elif i % 3 == 0:\n",
    "            print(\"Fizz\")\n",
    "        elif i % 5 == 0:\n",
    "            print(\"Buzz\")\n",
    "        else:\n",
    "            print(i)\n",
    "\n",
    "fizzbuzz(100)"
   ]
  },
  {
   "cell_type": "code",
   "execution_count": null,
   "id": "5836b7a6",
   "metadata": {},
   "outputs": [],
   "source": [
    "import sys\n",
    "import random\n",
    "from line_profiler import profile        # Import profile decorator\n",
    "\n",
    "@profile                                 # Decorate the function to be profiled\n",
    "def main():                              # Create a simple function with the code to be profiled\n",
    "    # Argument parsing\n",
    "    if len(sys.argv) != 2:\n",
    "        print(\"Script expects 1 positive integer argument, %u found.\"%(len(sys.argv) - 1))\n",
    "        sys.exit()\n",
    "    n = int(sys.argv[1])\n",
    "    # Init\n",
    "    random.seed(12)\n",
    "    arr = [random.random() for i in range(n)]\n",
    "    print(\"Sorting %d elements\"%(n))\n",
    "    # Sort\n",
    "    for i in range(n - 1):\n",
    "        swapped = False\n",
    "        for j in range(0, n - i - 1):\n",
    "            if arr[j] > arr[j + 1]:\n",
    "                arr[j], arr[j + 1] = arr[j + 1], arr[j]\n",
    "                swapped = True\n",
    "        # If no two elements were swapped in the inner loop, the array is sorted\n",
    "        if not swapped:\n",
    "            break\n",
    "    # Validate\n",
    "    is_sorted = True\n",
    "    for i in range(n - 1):\n",
    "        if arr[i] > arr[i+1]:\n",
    "            is_sorted = False\n",
    "    print(\"Sorting: %s\"%(\"Passed\" if is_sorted else \"Failed\"))\n",
    "    \n",
    "main()                                  # Call the created function"
   ]
  },
  {
   "cell_type": "code",
   "execution_count": null,
   "id": "82c3a8a6",
   "metadata": {},
   "outputs": [],
   "source": [
    "# line ~1\n",
    "from line_profiler import profile"
   ]
  },
  {
   "cell_type": "code",
   "execution_count": null,
   "id": "49a000b0",
   "metadata": {},
   "outputs": [],
   "source": [
    "# line ~278\n",
    "    @profile\n",
    "    def eaten(self, prey_list):"
   ]
  },
  {
   "cell_type": "code",
   "execution_count": null,
   "id": "930d029a",
   "metadata": {},
   "outputs": [],
   "source": [
    "for i in range(len(prey_list)):\n",
    "                prey = prey_list[i]\n",
    "                if prey.life < PREY_HUNGER_THRESH:"
   ]
  }
 ],
 "metadata": {},
 "nbformat": 4,
 "nbformat_minor": 5
}
