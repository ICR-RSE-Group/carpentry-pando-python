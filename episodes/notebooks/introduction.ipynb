{
 "cells": [
  {
   "cell_type": "markdown",
   "id": "e711a389-fa02-411b-a549-4612172c6a01",
   "metadata": {},
   "source": [
    "# This course is\n",
    "* Designed for researchers who write Python but lack formal computer science training\n",
    "* Teaches how to assess where time is spent during execution of a Python program\n",
    "* Provides a high-level understanding of how code executes\n",
    "* Explains how execution maps to performance bottlenecks and highlights good practices"
   ]
  },
  {
   "cell_type": "markdown",
   "id": "e2ab7b89-eada-4c43-8259-066cd5ec53ab",
   "metadata": {},
   "source": [
    "# Expected Outcomes: \n",
    "After this training, participants will be able to:\n",
    "* Use tools like cProfile and line_profiler to find which functions or lines of code take the most time.\n",
    "* Check code to understand what slows it down.\n",
    "* Spot common performance problems and apply fixes to make code run faster"
   ]
  },
  {
   "cell_type": "markdown",
   "id": "303b5679-d006-4682-aa54-f818a77dbffb",
   "metadata": {},
   "source": [
    "# Requirements to follow along the course:\n",
    "1. Create a conda environment using python 3.11 or newer\n",
    "   In command line, run: \n",
    "```bash\n",
    "conda create --name py311_env python=3.11\n",
    "conda activate py311_env\n",
    "```\n",
    "2. Install the required packages:\n",
    "```bash\n",
    "pip install pytest snakeviz line_profiler[all] numpy pandas matplotlib\n",
    "```\n",
    "\n",
    "**Note for MacOS users**:\n",
    "`line_profiler` could also be installed as well using conda:\n",
    "```bash\n",
    "conda install -c conda-forge line_profiler\n",
    "```"
   ]
  },
  {
   "cell_type": "code",
   "execution_count": null,
   "id": "ed2071b9-80ed-4dc4-ab38-89391d8d33a6",
   "metadata": {},
   "outputs": [],
   "source": []
  }
 ],
 "metadata": {
  "kernelspec": {
   "display_name": "Python 3 (ipykernel)",
   "language": "python",
   "name": "python3"
  },
  "language_info": {
   "codemirror_mode": {
    "name": "ipython",
    "version": 3
   },
   "file_extension": ".py",
   "mimetype": "text/x-python",
   "name": "python",
   "nbconvert_exporter": "python",
   "pygments_lexer": "ipython3",
   "version": "3.11.8"
  }
 },
 "nbformat": 4,
 "nbformat_minor": 5
}
