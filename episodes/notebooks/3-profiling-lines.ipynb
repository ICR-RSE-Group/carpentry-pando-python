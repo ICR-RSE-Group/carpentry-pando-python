{
 "cells": [
  {
   "cell_type": "markdown",
   "id": "58792c3d-6c7d-44c9-8ada-1d70d74d8e89",
   "metadata": {},
   "source": [
    "# Line-level profiling\n",
    "\n",
    "* When is `line level profiling` appropriate?\n",
    "* What adjustments are required to Python code to profile with line_profiler?\n",
    "* How can `kernprof` be used to profile a Python program?"
   ]
  },
  {
   "cell_type": "markdown",
   "id": "47340303-1ab0-4233-86fc-fbb35a546e52",
   "metadata": {},
   "source": [
    "Sometimes, `function-level profiling` shows that a method is expensive but doesn’t explain why because the method is complex.\n",
    "\n",
    "* `Line-level profiling` provides more detail by measuring performance at the level of individual lines of code.\n",
    "* It records how many times each line is executed and how much time is spent on it.\n",
    "* Because this level of detail can be costly to collect, it is applied only to specific methods you choose.\n",
    "* This approach makes it easier to spot individual lines that consume a disproportionate amount of runtime.\n"
   ]
  },
  {
   "cell_type": "markdown",
   "id": "8115efc6-cc83-4f42-a469-a5a3938934e6",
   "metadata": {},
   "source": [
    "Make sure to install the package if not already done\n",
    "\n",
    "```bash\n",
    "pip install line_profiler[all]\n",
    "```\n",
    "\n",
    "# For use in jupyter notebooks: \n",
    "\n"
   ]
  },
  {
   "cell_type": "code",
   "execution_count": 6,
   "id": "b0931cb3-16a8-44df-826f-f47df9080781",
   "metadata": {},
   "outputs": [
    {
     "name": "stdout",
     "output_type": "stream",
     "text": [
      "Requirement already satisfied: line_profiler in /opt/anaconda3/envs/py311_env/lib/python3.11/site-packages (5.0.0)\n"
     ]
    }
   ],
   "source": [
    "# load the required package as follows\n",
    "!pip install line_profiler\n",
    "%load_ext line_profiler"
   ]
  },
  {
   "cell_type": "code",
   "execution_count": 3,
   "id": "abc7d375",
   "metadata": {},
   "outputs": [
    {
     "name": "stdout",
     "output_type": "stream",
     "text": [
      "True\n"
     ]
    }
   ],
   "source": [
    "# save as my_script.py\n",
    "def is_prime(number):\n",
    "    if number < 2:\n",
    "        return False\n",
    "    for i in range(2, int(number**0.5) + 1):\n",
    "        if number % i == 0:\n",
    "            return False\n",
    "    return True\n",
    "    \n",
    "print(is_prime(1087))"
   ]
  },
  {
   "cell_type": "markdown",
   "id": "9a520915-92fc-4174-981f-ee24455176ed",
   "metadata": {},
   "source": [
    "## update the code to use the decorator\n",
    "* We will use `line_profiler` for that purpose, and we will `decorate` the function we want to analyse thoroughly.\n",
    "\n",
    "This tells `line_profiler` to collect metrics for the lines within the method is_prime(). \n",
    "You can still execute your code as normal, and these changes will have no effect."
   ]
  },
  {
   "cell_type": "code",
   "execution_count": 4,
   "id": "a613aa11",
   "metadata": {},
   "outputs": [
    {
     "name": "stdout",
     "output_type": "stream",
     "text": [
      "True\n"
     ]
    }
   ],
   "source": [
    "# save as my_script.py\n",
    "from line_profiler import profile\n",
    "\n",
    "@profile\n",
    "def is_prime(number):\n",
    "    if number < 2:\n",
    "        return False\n",
    "    for i in range(2, int(number**0.5) + 1):\n",
    "        if number % i == 0:\n",
    "            return False\n",
    "    return True\n",
    "    \n",
    "print(is_prime(1087))"
   ]
  },
  {
   "cell_type": "markdown",
   "id": "a5bf3c70-40d4-46a5-bc03-be77fd07dd52",
   "metadata": {},
   "source": [
    "## Run the lineprofiler from the command line (Recommended way):\n",
    "Save your python code into a `.py` file, e.g., `my_script.py`\n",
    "\n",
    "`line_profiler` can then be triggered via kernprof module. \n",
    "\n",
    "`kernprof` is a convenient script for running either `line_profiler` or the Python standard library's `cProfile` or profile modules, depending on what was imported in the code.\n",
    "\n",
    "```bash\n",
    "python -m kernprof -lvr my_script.py\n",
    "```\n",
    "\n",
    "`kernprof` -lvr options :\n",
    "\n",
    "* `-l` → turn on line profiling\n",
    "* `-v/--view` → show results in the console\n",
    "* `-r/--run` → run the script\n",
    "\n",
    "Note that `line_profiler` generates a binary file (unreadable) with `.py.lprof` extension.\n",
    "\n",
    "##### To read it:\n",
    "```bash\n",
    "python -m line_profiler -rm my_script.py.lprof\n",
    "```"
   ]
  },
  {
   "cell_type": "markdown",
   "id": "0e71b0b4-1673-435e-823d-2ef083d5765b",
   "metadata": {},
   "source": [
    "## Analysing the outputs:\n",
    "* `Line #`: the line number in your code\n",
    "* `Hits`: the number of time a line was executed, empty if line is not executed\n",
    "* `Time`: time spent in each line (micro-seconds)\n",
    "* `Per Hit`: time spent per hit (micro-seconds)\n",
    "* `% time`: percentage of time spent in each line\n",
    "* `Line Contents`: the line of code that is being analyses\n",
    "\n",
    "Note that one table is generated per decorated function.\n",
    "\n",
    "**Important:**\n",
    "If your code is big block, it is recommended to refactor your code and isolate some line of codes in a separate function that you can profile.\n"
   ]
  },
  {
   "cell_type": "markdown",
   "id": "63042c6a-da72-4cd6-98cf-076f2efb8253",
   "metadata": {},
   "source": [
    "## Alternatively, Run the lineprofiler in jupyter notebook:"
   ]
  },
  {
   "cell_type": "code",
   "execution_count": 7,
   "id": "87905d05-a1b8-4f28-a428-0c3a572245bd",
   "metadata": {
    "scrolled": true
   },
   "outputs": [
    {
     "name": "stdout",
     "output_type": "stream",
     "text": [
      "Requirement already satisfied: line_profiler in /opt/anaconda3/envs/py311_env/lib/python3.11/site-packages (5.0.0)\n",
      "The line_profiler extension is already loaded. To reload it, use:\n",
      "  %reload_ext line_profiler\n"
     ]
    },
    {
     "data": {
      "text/plain": [
       "Timer unit: 1e-09 s\n",
       "\n",
       "Total time: 5e-06 s\n",
       "File: /var/folders/s0/2zsybdkd50s2xdxzyg37j4611m1b1l/T/ipykernel_19560/1357507920.py\n",
       "Function: is_prime at line 4\n",
       "\n",
       "Line #      Hits         Time  Per Hit   % Time  Line Contents\n",
       "==============================================================\n",
       "     4                                           @profile\n",
       "     5                                           def is_prime(number):\n",
       "     6         1       1000.0   1000.0     20.0      if number < 2:\n",
       "     7                                                   return False\n",
       "     8         2       3000.0   1500.0     60.0      for i in range(2, int(number**0.5) + 1):\n",
       "     9         1       1000.0   1000.0     20.0          if number % i == 0:\n",
       "    10                                                       return False\n",
       "    11         1          0.0      0.0      0.0      return True"
      ]
     },
     "metadata": {},
     "output_type": "display_data"
    }
   ],
   "source": [
    "# load the required package as follows\n",
    "!pip install line_profiler\n",
    "%load_ext line_profiler\n",
    "%lprun -f is_prime is_prime(5)"
   ]
  },
  {
   "cell_type": "code",
   "execution_count": 16,
   "id": "51a88114-b7d1-4975-9505-d905b470142c",
   "metadata": {},
   "outputs": [],
   "source": [
    "# trying to optimise, but not sure it is\n",
    "def is_prime_opt(number: int) -> bool:\n",
    "    if number < 2:\n",
    "        return False\n",
    "    if number in (2, 3):\n",
    "        return True\n",
    "    if number % 2 == 0 or number % 3 == 0:\n",
    "        return False\n",
    "\n",
    "    # check only numbers of the form 6k ± 1\n",
    "    limit = int(number**0.5) + 1\n",
    "    for i in range(5, limit, 6):\n",
    "        if number % i == 0 or number % (i + 2) == 0:\n",
    "            return False\n",
    "    return True\n"
   ]
  }
 ],
 "metadata": {
  "kernelspec": {
   "display_name": "Python 3 (ipykernel)",
   "language": "python",
   "name": "python3"
  },
  "language_info": {
   "codemirror_mode": {
    "name": "ipython",
    "version": 3
   },
   "file_extension": ".py",
   "mimetype": "text/x-python",
   "name": "python",
   "nbconvert_exporter": "python",
   "pygments_lexer": "ipython3",
   "version": "3.11.8"
  }
 },
 "nbformat": 4,
 "nbformat_minor": 5
}
