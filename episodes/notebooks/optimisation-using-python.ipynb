{
 "cells": [
  {
   "cell_type": "markdown",
   "id": "dbe898de",
   "metadata": {},
   "source": [
    "# Using Python Language Features and the Standard Library"
   ]
  },
  {
   "cell_type": "markdown",
   "id": "f623e9f7",
   "metadata": {},
   "source": [
    "- Before moving on to the data structures and algorithms, we should go through some of python basics\n",
    "- We are going to focus on pythonic approaches"
   ]
  },
  {
   "cell_type": "markdown",
   "id": "87352cff",
   "metadata": {},
   "source": [
    "## 1.1 Built-in functions"
   ]
  },
  {
   "cell_type": "code",
   "execution_count": null,
   "id": "8d4e4505",
   "metadata": {},
   "outputs": [],
   "source": [
    "import random\n",
    "from timeit import timeit\n",
    "\n",
    "N = 100000  # Number of elements in the list\n",
    "\n",
    "# Ensure every list is the same\n",
    "random.seed(12)\n",
    "my_data = [random.random() for i in range(N)]"
   ]
  },
  {
   "cell_type": "markdown",
   "id": "3a08e978",
   "metadata": {},
   "source": [
    "- Let's look at summing values in a list in a C and in a Python way\n",
    "- In C, you would write a loop to sum numbers like this:"
   ]
  },
  {
   "cell_type": "code",
   "execution_count": null,
   "id": "4395d1ca",
   "metadata": {},
   "outputs": [],
   "source": [
    "def manualSumC():\n",
    "    n = 0\n",
    "    for i in range(len(my_data)):\n",
    "        n += my_data[i]\n",
    "    return n"
   ]
  },
  {
   "cell_type": "markdown",
   "id": "1ce2b62b",
   "metadata": {},
   "source": [
    "- In Python you can loop directly over the list of elements instead"
   ]
  },
  {
   "cell_type": "code",
   "execution_count": null,
   "id": "50cc6abc",
   "metadata": {},
   "outputs": [],
   "source": [
    "def manualSumPy(): \n",
    "    n = 0\n",
    "    for evt_count in my_data:\n",
    "        n += evt_count\n",
    "    return n\n"
   ]
  },
  {
   "cell_type": "markdown",
   "id": "d1bd55bd",
   "metadata": {},
   "source": [
    "- There is also an in built sum function in python"
   ]
  },
  {
   "cell_type": "code",
   "execution_count": null,
   "id": "b85ec646",
   "metadata": {},
   "outputs": [],
   "source": [
    "def builtinSum(): \n",
    "    return sum(my_data)"
   ]
  },
  {
   "cell_type": "markdown",
   "id": "b709f726",
   "metadata": {},
   "source": [
    "- If we compare all of these to each other, we can see that the fastest version in actually in built python version, them the python version and then the C version\n",
    "- You can see that by leveraging python we can write a much faster and cleaner code"
   ]
  },
  {
   "cell_type": "code",
   "execution_count": null,
   "id": "3c9c2843",
   "metadata": {},
   "outputs": [],
   "source": [
    "repeats = 1000\n",
    "print(f\"manualSumC: {timeit(manualSumC, globals=globals(), number=repeats):.3f}ms\")\n",
    "print(f\"manualSumPy: {timeit(manualSumPy, globals=globals(), number=repeats):.3f}ms\")\n",
    "print(f\"builtinSum: {timeit(builtinSum, globals=globals(), number=repeats):.3f}ms\")"
   ]
  },
  {
   "cell_type": "markdown",
   "id": "34ff1428",
   "metadata": {},
   "source": [
    "- This is because the built-in function are typically implemented in CPython backend and it bypasses python int4erpreter \n",
    "- What is CPython?\n",
    "\n",
    "CPython is the main implementation of Python.\n",
    "It’s written in the C programming language.\n",
    "When you install “Python” from python.org, you’re almost always using CPython.\n",
    "So when you write Python code, CPython is the program that interprets it and makes it run.\n",
    "\n",
    "- In particular, those which are passed an iterable (e.g. lists) are likely to provide the greatest benefits to performance. The Python documentation provides equivalent Python code for many of these cases.\n",
    "\n",
    "all(): boolean and of all items\n",
    "any(): boolean or of all items\n",
    "max(): Return the maximum item\n",
    "min(): Return the minimum item\n",
    "sum(): Return the sum of all items\n",
    "\n",
    "- It’s usually better to tell Python what you want done (at a high level), rather than writing out all the steps. Built-ins and libraries will often do the work in optimised C code for you, and then just hand back a Python object."
   ]
  },
  {
   "cell_type": "markdown",
   "id": "0b138559",
   "metadata": {},
   "source": [
    "## 1.2 Searching an element in a list"
   ]
  },
  {
   "cell_type": "markdown",
   "id": "9a3a193b",
   "metadata": {},
   "source": [
    "- Another example \n",
    "- Similarly to before we are going to compare manual python search and a proper pythonic method of searching elements\n",
    "- Let's first generate inputs"
   ]
  },
  {
   "cell_type": "code",
   "execution_count": null,
   "id": "87abbfbc",
   "metadata": {},
   "outputs": [],
   "source": [
    "import random\n",
    "\n",
    "N = 2500  # Number of elements in list\n",
    "M = 2  # N*M == Range over which the elements span\n",
    "\n",
    "def generateInputs():\n",
    "    random.seed(12)  # Ensure every list is the same\n",
    "    return [random.randint(0, int(N*M)) for i in range(N)]"
   ]
  },
  {
   "cell_type": "markdown",
   "id": "3813c2a6",
   "metadata": {},
   "source": [
    "- Manual search is linear search which iterates though the list "
   ]
  },
  {
   "cell_type": "code",
   "execution_count": null,
   "id": "0ef1c3ef",
   "metadata": {},
   "outputs": [],
   "source": [
    "def manualSearch():\n",
    "    ls = generateInputs()\n",
    "    ct = 0\n",
    "    for i in range(0, int(N*M), M):\n",
    "        for j in range(0, len(ls)):\n",
    "            if ls[j] == i:\n",
    "                ct += 1\n",
    "                break"
   ]
  },
  {
   "cell_type": "markdown",
   "id": "16d32126",
   "metadata": {},
   "source": [
    "- operatorSearch() uses the in operator to perform each search, which allows CPython to implement the inner loop in its C back-end"
   ]
  },
  {
   "cell_type": "code",
   "execution_count": null,
   "id": "7e111884",
   "metadata": {},
   "outputs": [],
   "source": [
    "def operatorSearch():\n",
    "    ls = generateInputs()\n",
    "    ct = 0\n",
    "    for i in range(0, int(N*M), M):\n",
    "        if i in ls:\n",
    "            ct += 1"
   ]
  },
  {
   "cell_type": "markdown",
   "id": "631985b8",
   "metadata": {},
   "source": [
    "- Manual search is 5x slower than the pythonic implementation"
   ]
  },
  {
   "cell_type": "code",
   "execution_count": null,
   "id": "b60e913e",
   "metadata": {},
   "outputs": [],
   "source": [
    "repeats = 1000\n",
    "gen_time = timeit(generateInputs, number=repeats)\n",
    "print(f\"manualSearch: {timeit(manualSearch, number=repeats)-gen_time:.2f}ms\")\n",
    "print(f\"operatorSearch: {timeit(operatorSearch, number=repeats)-gen_time:.2f}ms\")"
   ]
  },
  {
   "cell_type": "markdown",
   "id": "ac0f6e55",
   "metadata": {},
   "source": [
    "## 1.3 Parsing data from a text file"
   ]
  },
  {
   "cell_type": "markdown",
   "id": "e308ae2b",
   "metadata": {},
   "source": [
    "- Let's take on a little challenge \n",
    "- Let’s say we have read in some data from a text file, each line containing a time bin and a mean energy:"
   ]
  },
  {
   "cell_type": "code",
   "execution_count": null,
   "id": "ddddf979",
   "metadata": {},
   "outputs": [],
   "source": [
    "f = [\n",
    "    ' 0000   0.9819 ',\n",
    "    ' 0001   0.3435 ',\n",
    "    # ...\n",
    "    ' 0099   0.2275 ',\n",
    "    ' 0100   0.7067 ',\n",
    "    # ...\n",
    "]"
   ]
  },
  {
   "cell_type": "markdown",
   "id": "bd05f7b6",
   "metadata": {},
   "source": [
    "- If you’ve a C programming background, you may write the following code to parse the data into a dictionary:"
   ]
  },
  {
   "cell_type": "code",
   "execution_count": null,
   "id": "0622809b",
   "metadata": {},
   "outputs": [],
   "source": [
    "def manualSplit():\n",
    "    data = {}\n",
    "    for line in f:\n",
    "        first_char = line.find(\"0\")\n",
    "        end_time = line.find(\" \", first_char, -1)\n",
    "\n",
    "        energy_found = line.find(\".\", end_time, -1)\n",
    "        begin_energy = line.rfind(\" \", end_time, energy_found)\n",
    "        end_energy = line.find(\" \", energy_found)\n",
    "        if end_energy == -1:\n",
    "            end_energy = len(line)\n",
    "        \n",
    "        time = line[first_char:end_time]\n",
    "        energy = line[begin_energy + 1:end_energy]\n",
    "\n",
    "        data[time] = energy\n",
    "    return data"
   ]
  },
  {
   "cell_type": "markdown",
   "id": "f1d4fd96",
   "metadata": {},
   "source": [
    "Solution: python code!\n",
    "- Much shorter \n",
    "- Much easier to read \n",
    "- More flexible (doesn’t care how many spaces there are)."
   ]
  },
  {
   "cell_type": "code",
   "execution_count": null,
   "id": "955129da",
   "metadata": {},
   "outputs": [],
   "source": [
    "def builtinSplit():\n",
    "    data = {}\n",
    "    for line in f:\n",
    "        time, energy = line.split()\n",
    "        data[time] = energy\n",
    "    return data"
   ]
  },
  {
   "cell_type": "markdown",
   "id": "b838939e",
   "metadata": {},
   "source": [
    "- Let's compare those two methods"
   ]
  },
  {
   "cell_type": "code",
   "execution_count": null,
   "id": "957d219a",
   "metadata": {},
   "outputs": [],
   "source": [
    "N = 10_000  # Number of elements in the list\n",
    "\n",
    "# Ensure every list is the same\n",
    "random.seed(12)\n",
    "f = [f\" {i:0>6d} {random.random():8.4f} \" for i in range(N)]\n",
    "\n",
    "repeats = 1000\n",
    "print(f\"manualSplit: {timeit(manualSplit, globals=globals(), number=repeats):.3f}ms\")\n",
    "print(f\"builtinSplit: {timeit(builtinSplit, globals=globals(), number=repeats):.3f}ms\")"
   ]
  },
  {
   "cell_type": "markdown",
   "id": "78196c24",
   "metadata": {},
   "source": [
    "Why is it faster?\n",
    "- Even though split() is doing something similar to the manual version, it’s implemented in C inside CPython."
   ]
  },
  {
   "cell_type": "markdown",
   "id": "39e367d2",
   "metadata": {},
   "source": []
  }
 ],
 "metadata": {
  "language_info": {
   "name": "python"
  }
 },
 "nbformat": 4,
 "nbformat_minor": 5
}
