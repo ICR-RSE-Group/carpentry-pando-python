{
 "cells": [
  {
   "cell_type": "code",
   "execution_count": null,
   "id": "b60e913e",
   "metadata": {},
   "outputs": [],
   "source": [
    "import random\n",
    "\n",
    "N = 2500  # Number of elements in list\n",
    "M = 2  # N*M == Range over which the elements span\n",
    "\n",
    "def generateInputs():\n",
    "    random.seed(12)  # Ensure every list is the same\n",
    "    return [random.randint(0, int(N*M)) for i in range(N)]\n",
    "    \n",
    "def manualSearch():\n",
    "    ls = generateInputs()\n",
    "    ct = 0\n",
    "    for i in range(0, int(N*M), M):\n",
    "        for j in range(0, len(ls)):\n",
    "            if ls[j] == i:\n",
    "                ct += 1\n",
    "                break\n",
    "\n",
    "def operatorSearch():\n",
    "    ls = generateInputs()\n",
    "    ct = 0\n",
    "    for i in range(0, int(N*M), M):\n",
    "        if i in ls:\n",
    "            ct += 1\n",
    "\n",
    "repeats = 1000\n",
    "gen_time = timeit(generateInputs, number=repeats)\n",
    "print(f\"manualSearch: {timeit(manualSearch, number=repeats)-gen_time:.2f}ms\")\n",
    "print(f\"operatorSearch: {timeit(operatorSearch, number=repeats)-gen_time:.2f}ms\")"
   ]
  },
  {
   "cell_type": "code",
   "execution_count": null,
   "id": "ddddf979",
   "metadata": {},
   "outputs": [],
   "source": [
    "f = [\n",
    "    ' 0000   0.9819 ',\n",
    "    ' 0001   0.3435 ',\n",
    "    # ...\n",
    "    ' 0099   0.2275 ',\n",
    "    ' 0100   0.7067 ',\n",
    "    # ...\n",
    "]"
   ]
  },
  {
   "cell_type": "code",
   "execution_count": null,
   "id": "0622809b",
   "metadata": {},
   "outputs": [],
   "source": [
    "def manualSplit():\n",
    "    data = {}\n",
    "    for line in f:\n",
    "        first_char = line.find(\"0\")\n",
    "        end_time = line.find(\" \", first_char, -1)\n",
    "\n",
    "        energy_found = line.find(\".\", end_time, -1)\n",
    "        begin_energy = line.rfind(\" \", end_time, energy_found)\n",
    "        end_energy = line.find(\" \", energy_found)\n",
    "        if end_energy == -1:\n",
    "            end_energy = len(line)\n",
    "        \n",
    "        time = line[first_char:end_time]\n",
    "        energy = line[begin_energy + 1:end_energy]\n",
    "\n",
    "        data[time] = energy\n",
    "    return data"
   ]
  },
  {
   "cell_type": "code",
   "execution_count": null,
   "id": "955129da",
   "metadata": {},
   "outputs": [],
   "source": [
    "def builtinSplit():\n",
    "    data = {}\n",
    "    for line in f:\n",
    "        time, energy = line.split()\n",
    "        data[time] = energy\n",
    "    return data"
   ]
  },
  {
   "cell_type": "code",
   "execution_count": null,
   "id": "957d219a",
   "metadata": {},
   "outputs": [],
   "source": [
    "N = 10_000  # Number of elements in the list\n",
    "\n",
    "# Ensure every list is the same\n",
    "random.seed(12)\n",
    "f = [f\" {i:0>6d} {random.random():8.4f} \" for i in range(N)]\n",
    "\n",
    "repeats = 1000\n",
    "print(f\"manualSplit: {timeit(manualSplit, globals=globals(), number=repeats):.3f}ms\")\n",
    "print(f\"builtinSplit: {timeit(builtinSplit, globals=globals(), number=repeats):.3f}ms\")"
   ]
  }
 ],
 "metadata": {},
 "nbformat": 4,
 "nbformat_minor": 5
}
