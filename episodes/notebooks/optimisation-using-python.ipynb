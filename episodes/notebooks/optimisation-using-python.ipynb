{
 "cells": [
  {
   "cell_type": "markdown",
   "id": "dbe898de",
   "metadata": {},
   "source": [
    "# Using Python Language Features and the Standard Library"
   ]
  },
  {
   "cell_type": "markdown",
   "id": "f623e9f7",
   "metadata": {},
   "source": [
    "- Before moving on to the data structures and algorithms, we should go through some of python basics\n",
    "\n",
    "- We are going to focus on pythonic approaches"
   ]
  },
  {
   "cell_type": "markdown",
   "id": "87352cff",
   "metadata": {},
   "source": [
    "## 1.1 Built-in functions"
   ]
  },
  {
   "cell_type": "code",
   "execution_count": 1,
   "id": "8d4e4505",
   "metadata": {},
   "outputs": [],
   "source": [
    "import random\n",
    "from timeit import timeit\n",
    "\n",
    "N = 100000  # Number of elements in the list\n",
    "\n",
    "# Ensure every list is the same\n",
    "random.seed(12)\n",
    "my_data = [random.random() for i in range(N)]"
   ]
  },
  {
   "cell_type": "markdown",
   "id": "3a08e978",
   "metadata": {},
   "source": [
    "- Let's look at summing values in a list in a C and in a Python way\n",
    "\n",
    "- In C, you would write a loop to sum numbers like this:"
   ]
  },
  {
   "cell_type": "code",
   "execution_count": 2,
   "id": "4395d1ca",
   "metadata": {},
   "outputs": [],
   "source": [
    "def manualSumC():\n",
    "    n = 0\n",
    "    for i in range(len(my_data)):\n",
    "        n += my_data[i]\n",
    "    return n"
   ]
  },
  {
   "cell_type": "markdown",
   "id": "1ce2b62b",
   "metadata": {},
   "source": [
    "- In Python you can loop directly over the list of elements instead"
   ]
  },
  {
   "cell_type": "code",
   "execution_count": 3,
   "id": "50cc6abc",
   "metadata": {},
   "outputs": [],
   "source": [
    "def manualSumPy(): \n",
    "    n = 0\n",
    "    for evt_count in my_data:\n",
    "        n += evt_count\n",
    "    return n\n"
   ]
  },
  {
   "cell_type": "markdown",
   "id": "d1bd55bd",
   "metadata": {},
   "source": [
    "- There is also an in built sum function in python"
   ]
  },
  {
   "cell_type": "code",
   "execution_count": 4,
   "id": "b85ec646",
   "metadata": {},
   "outputs": [],
   "source": [
    "def builtinSum(): \n",
    "    return sum(my_data)"
   ]
  },
  {
   "cell_type": "markdown",
   "id": "b709f726",
   "metadata": {},
   "source": [
    "- If we compare all of these to each other, we can see that the fastest version in actually in built python version, them the python version and then the C version\n",
    "\n",
    "- You can see that by leveraging python we can write a much faster and cleaner code"
   ]
  },
  {
   "cell_type": "code",
   "execution_count": 5,
   "id": "3c9c2843",
   "metadata": {},
   "outputs": [
    {
     "name": "stdout",
     "output_type": "stream",
     "text": [
      "manualSumC: 1.414ms\n",
      "manualSumPy: 0.771ms\n",
      "builtinSum: 0.278ms\n"
     ]
    }
   ],
   "source": [
    "repeats = 1000\n",
    "print(f\"manualSumC: {timeit(manualSumC, globals=globals(), number=repeats):.3f}ms\")\n",
    "print(f\"manualSumPy: {timeit(manualSumPy, globals=globals(), number=repeats):.3f}ms\")\n",
    "print(f\"builtinSum: {timeit(builtinSum, globals=globals(), number=repeats):.3f}ms\")"
   ]
  },
  {
   "cell_type": "markdown",
   "id": "34ff1428",
   "metadata": {},
   "source": [
    "- This is because the built-in function are typically implemented in CPython backend and it bypasses python interpreter \n",
    "\n",
    "- What is CPython?\n",
    "\n",
    "Python is a programming language, and CPython is the main program that actually runs Python code. It’s the default version of Python that most people use. It’s written in C, which is why it’s called CPython. You write Python code, and CPython turns it into instructions that your computer can execute.\n",
    "\n",
    "- In particular, those which are passed an iterable (e.g. lists) are likely to provide the greatest benefits to performance. The Python documentation provides equivalent Python code for many of these cases.\n",
    "\n",
    "all(): boolean and of all items\n",
    "\n",
    "any(): boolean or of all items\n",
    "\n",
    "max(): Return the maximum item\n",
    "\n",
    "min(): Return the minimum item\n",
    "\n",
    "sum(): Return the sum of all items\n",
    "\n",
    "- It’s usually better to tell Python what you want done (at a high level), rather than writing out all the steps. Built-ins and libraries will often do the work in optimised C code for you, and then just hand back a Python object."
   ]
  },
  {
   "cell_type": "markdown",
   "id": "0b138559",
   "metadata": {},
   "source": [
    "## 1.2 Searching an element in a list"
   ]
  },
  {
   "cell_type": "markdown",
   "id": "9a3a193b",
   "metadata": {},
   "source": [
    "- Another example \n",
    "\n",
    "- Similarly to before we are going to compare manual python search and a proper pythonic method of searching elements\n",
    "\n",
    "- Let's first generate inputs"
   ]
  },
  {
   "cell_type": "code",
   "execution_count": 6,
   "id": "87abbfbc",
   "metadata": {},
   "outputs": [],
   "source": [
    "import random\n",
    "\n",
    "N = 2500  # Number of elements in list\n",
    "M = 2  # N*M == Range over which the elements span\n",
    "\n",
    "def generateInputs():\n",
    "    random.seed(12)  # Ensure every list is the same\n",
    "    return [random.randint(0, int(N*M)) for i in range(N)]"
   ]
  },
  {
   "cell_type": "markdown",
   "id": "3813c2a6",
   "metadata": {},
   "source": [
    "- Manual search is linear search which iterates though the list "
   ]
  },
  {
   "cell_type": "code",
   "execution_count": 7,
   "id": "0ef1c3ef",
   "metadata": {},
   "outputs": [],
   "source": [
    "def manualSearch():\n",
    "    ls = generateInputs()\n",
    "    ct = 0\n",
    "    for i in range(0, int(N*M), M):\n",
    "        for j in range(0, len(ls)):\n",
    "            if ls[j] == i:\n",
    "                ct += 1\n",
    "                break"
   ]
  },
  {
   "cell_type": "markdown",
   "id": "16d32126",
   "metadata": {},
   "source": [
    "- operatorSearch() uses the in operator to perform each search, which allows CPython to implement the inner loop in its C back-end"
   ]
  },
  {
   "cell_type": "code",
   "execution_count": 8,
   "id": "7e111884",
   "metadata": {},
   "outputs": [],
   "source": [
    "def operatorSearch():\n",
    "    ls = generateInputs()\n",
    "    ct = 0\n",
    "    for i in range(0, int(N*M), M):\n",
    "        if i in ls:\n",
    "            ct += 1"
   ]
  },
  {
   "cell_type": "markdown",
   "id": "631985b8",
   "metadata": {},
   "source": [
    "- Manual search is 5x slower than the pythonic implementation"
   ]
  },
  {
   "cell_type": "code",
   "execution_count": 9,
   "id": "b60e913e",
   "metadata": {},
   "outputs": [
    {
     "name": "stdout",
     "output_type": "stream",
     "text": [
      "manualSearch: 57.24ms\n",
      "operatorSearch: 24.28ms\n"
     ]
    }
   ],
   "source": [
    "repeats = 1000\n",
    "gen_time = timeit(generateInputs, number=repeats)\n",
    "print(f\"manualSearch: {timeit(manualSearch, number=repeats)-gen_time:.2f}ms\")\n",
    "print(f\"operatorSearch: {timeit(operatorSearch, number=repeats)-gen_time:.2f}ms\")"
   ]
  }
 ],
 "metadata": {
  "kernelspec": {
   "display_name": "Python 3 (ipykernel)",
   "language": "python",
   "name": "python3"
  },
  "language_info": {
   "codemirror_mode": {
    "name": "ipython",
    "version": 3
   },
   "file_extension": ".py",
   "mimetype": "text/x-python",
   "name": "python",
   "nbconvert_exporter": "python",
   "pygments_lexer": "ipython3",
   "version": "3.11.13"
  }
 },
 "nbformat": 4,
 "nbformat_minor": 5
}
